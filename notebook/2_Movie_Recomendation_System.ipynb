{
  "cells": [
    {
      "cell_type": "code",
      "execution_count": 1,
      "metadata": {
        "colab": {
          "base_uri": "https://localhost:8080/"
        },
        "id": "6IE9YOlM1dV6",
        "outputId": "703cc46a-17ad-4471-cfce-441f378ca056"
      },
      "outputs": [
        {
          "name": "stdout",
          "output_type": "stream",
          "text": [
            "Collecting surprise\n",
            "  Downloading surprise-0.1-py2.py3-none-any.whl (1.8 kB)\n",
            "Collecting scikit-surprise (from surprise)\n",
            "  Downloading scikit-surprise-1.1.3.tar.gz (771 kB)\n",
            "\u001b[2K     \u001b[90m━━━━━━━━━━━━━━━━━━━━━━━━━━━━━━━━━━━━━━━━\u001b[0m \u001b[32m772.0/772.0 kB\u001b[0m \u001b[31m11.5 MB/s\u001b[0m eta \u001b[36m0:00:00\u001b[0m\n",
            "\u001b[?25h  Preparing metadata (setup.py) ... \u001b[?25l\u001b[?25hdone\n",
            "Requirement already satisfied: joblib>=1.0.0 in /usr/local/lib/python3.10/dist-packages (from scikit-surprise->surprise) (1.3.2)\n",
            "Requirement already satisfied: numpy>=1.17.3 in /usr/local/lib/python3.10/dist-packages (from scikit-surprise->surprise) (1.23.5)\n",
            "Requirement already satisfied: scipy>=1.3.2 in /usr/local/lib/python3.10/dist-packages (from scikit-surprise->surprise) (1.11.3)\n",
            "Building wheels for collected packages: scikit-surprise\n",
            "  Building wheel for scikit-surprise (setup.py) ... \u001b[?25l\u001b[?25hdone\n",
            "  Created wheel for scikit-surprise: filename=scikit_surprise-1.1.3-cp310-cp310-linux_x86_64.whl size=3163496 sha256=2e9037214b9fb8c6fd224f415726e06fd4783bee8260f1a81362fce91055cdee\n",
            "  Stored in directory: /root/.cache/pip/wheels/a5/ca/a8/4e28def53797fdc4363ca4af740db15a9c2f1595ebc51fb445\n",
            "Successfully built scikit-surprise\n",
            "Installing collected packages: scikit-surprise, surprise\n",
            "Successfully installed scikit-surprise-1.1.3 surprise-0.1\n"
          ]
        }
      ],
      "source": [
        "!pip install surprise"
      ]
    },
    {
      "cell_type": "code",
      "execution_count": 2,
      "metadata": {
        "colab": {
          "base_uri": "https://localhost:8080/"
        },
        "id": "yZc72dKE436P",
        "outputId": "c674887a-6a33-4177-db72-b0cda3f5ea08"
      },
      "outputs": [
        {
          "name": "stdout",
          "output_type": "stream",
          "text": [
            "--2023-12-01 13:18:10--  https://files.grouplens.org/datasets/movielens/ml-100k.zip\n",
            "Resolving files.grouplens.org (files.grouplens.org)... 128.101.65.152\n",
            "Connecting to files.grouplens.org (files.grouplens.org)|128.101.65.152|:443... connected.\n",
            "HTTP request sent, awaiting response... 200 OK\n",
            "Length: 4924029 (4.7M) [application/zip]\n",
            "Saving to: ‘ml-100k.zip’\n",
            "\n",
            "ml-100k.zip         100%[===================>]   4.70M  26.8MB/s    in 0.2s    \n",
            "\n",
            "2023-12-01 13:18:11 (26.8 MB/s) - ‘ml-100k.zip’ saved [4924029/4924029]\n",
            "\n"
          ]
        }
      ],
      "source": [
        "!wget https://files.grouplens.org/datasets/movielens/ml-100k.zip"
      ]
    },
    {
      "cell_type": "code",
      "execution_count": 3,
      "metadata": {
        "id": "68XvgqUZZfsl"
      },
      "outputs": [],
      "source": [
        "import zipfile\n",
        "import os\n",
        "import pandas as pd\n",
        "from surprise import Dataset, Reader\n",
        "from surprise import SVD\n",
        "from sklearn.metrics.pairwise import cosine_similarity\n",
        "from sklearn.preprocessing import StandardScaler\n",
        "from surprise import accuracy\n",
        "from surprise.model_selection import train_test_split, GridSearchCV"
      ]
    },
    {
      "cell_type": "code",
      "execution_count": 4,
      "metadata": {
        "id": "3oTaOokkfQDL"
      },
      "outputs": [],
      "source": [
        "# Extract the MovieLens 100K dataset\n",
        "with zipfile.ZipFile('ml-100k.zip', 'r') as zip_ref:\n",
        "    zip_ref.extractall('/content')"
      ]
    },
    {
      "cell_type": "markdown",
      "metadata": {
        "id": "XbI3a3LONamD"
      },
      "source": [
        "##1. Data Loading and Splitting:\n",
        "The MovieLens 100K dataset is loaded from the 'ml-100k.zip' file.\n",
        "The data is structured with user, item, rating, and timestamp information.\n",
        "The dataset is split into training and testing sets using a 75-25 split ratio."
      ]
    },
    {
      "cell_type": "code",
      "execution_count": 25,
      "metadata": {
        "id": "1sXnCmP34Tx7"
      },
      "outputs": [],
      "source": [
        "\n",
        "# Load the MovieLens 100K dataset\n",
        "reader = Reader(line_format='user item rating timestamp', sep='\\t')\n",
        "data = Dataset.load_from_file(os.path.join('ml-100k', 'u.data'), reader=reader)\n",
        "\n",
        "# Split the data into training and testing sets\n",
        "trainset, testset = train_test_split(data, test_size=0.25, random_state=42)\n"
      ]
    },
    {
      "cell_type": "code",
      "execution_count": 26,
      "metadata": {
        "id": "Cj2B21ucd7Bm"
      },
      "outputs": [],
      "source": [
        "from surprise import dump\n",
        "import os\n",
        "\n",
        "# Define the folder path\n",
        "folder_path = 'benchmark'\n",
        "\n",
        "# Check if the folder exists\n",
        "if not os.path.exists(folder_path):\n",
        "    # Create the folder if it doesn't exist\n",
        "    os.makedirs(folder_path)\n",
        "\n",
        "# Save the test set to a file\n",
        "testset_path = 'benchmark/testset.pkl'\n",
        "with open(testset_path, 'wb') as file:\n",
        "    pickle.dump(testset, file)\n"
      ]
    },
    {
      "cell_type": "markdown",
      "metadata": {
        "id": "mZTyZXmBNnJ2"
      },
      "source": [
        "##2. Collaborative Filtering Model (SVD):\n",
        "Singular Value Decomposition (SVD) is chosen as the collaborative filtering model.\n",
        "SVD decomposes the user-item interaction matrix into user and item latent factor matrices."
      ]
    },
    {
      "cell_type": "code",
      "execution_count": 9,
      "metadata": {
        "id": "u9_i5jRANm7e"
      },
      "outputs": [],
      "source": [
        "# Set up and train the collaborative filtering model (SVD)\n",
        "model = SVD()"
      ]
    },
    {
      "cell_type": "markdown",
      "metadata": {
        "id": "_XhiaaMVNmK8"
      },
      "source": [
        "##3. Hyperparameter Tuning with Grid Search:\n",
        "A grid search is performed to find the optimal hyperparameters for the SVD model.\n",
        "The grid includes the number of epochs, learning rate, and regularization terms."
      ]
    },
    {
      "cell_type": "code",
      "execution_count": 10,
      "metadata": {
        "id": "xmsCwd3JNlyd"
      },
      "outputs": [],
      "source": [
        "# Define parameter grid for grid search\n",
        "param_grid = {'n_epochs': [5, 10, 15], 'lr_all': [0.002, 0.005, 0.01],\n",
        "              'reg_all': [0.02, 0.1, 0.2]}\n",
        "\n",
        "# Perform grid search to find the best parameters\n",
        "grid_search = GridSearchCV(SVD, param_grid, measures=['rmse'], cv=5)\n",
        "grid_search.fit(data)\n",
        "\n",
        "# Get the best model\n",
        "best_model = grid_search.best_estimator['rmse']"
      ]
    },
    {
      "cell_type": "markdown",
      "metadata": {
        "id": "pbjfrtLxNkn2"
      },
      "source": [
        "##4. Model Training and Testing:\n",
        "The best model obtained from the grid search is trained on the entire dataset."
      ]
    },
    {
      "cell_type": "code",
      "execution_count": 11,
      "metadata": {
        "id": "ogHoO-bkNj23"
      },
      "outputs": [],
      "source": [
        "# Train the best model on the entire dataset\n",
        "best_model.fit(data.build_full_trainset())\n",
        "\n",
        "# Generate predictions for the test set\n",
        "predictions = best_model.test(testset)\n"
      ]
    },
    {
      "cell_type": "markdown",
      "metadata": {
        "id": "GQxncKmIOSJL"
      },
      "source": [
        "##5. User and Item Embeddings:\n",
        "The trained model provides user and item embeddings.\n",
        "\n",
        "In the context of collaborative filtering and matrix factorization techniques like Singular Value Decomposition (SVD), user and item embeddings are representations of users and items in a lower-dimensional latent space. These embeddings capture latent factors that characterize the preferences of users and the properties of items.  During the training of collaborative filtering models like SVD, these embeddings are learned based on the historical interactions between users and items."
      ]
    },
    {
      "cell_type": "code",
      "execution_count": 12,
      "metadata": {
        "id": "TXQ5pdntOR7F"
      },
      "outputs": [],
      "source": [
        "# Use the trained model to get user and item embeddings\n",
        "user_embeddings = best_model.pu\n",
        "item_embeddings = best_model.qi"
      ]
    },
    {
      "cell_type": "markdown",
      "metadata": {
        "id": "P-qduHvTO2nQ"
      },
      "source": [
        "##6. User-Item Similarity Calculation:\n",
        "Cosine similarity is calculated between user and item embeddings to measure similarity."
      ]
    },
    {
      "cell_type": "code",
      "execution_count": 13,
      "metadata": {
        "id": "34M899ZMO2cP"
      },
      "outputs": [],
      "source": [
        "# Calculate user-item similarity based on cosine similarity\n",
        "user_item_similarity = cosine_similarity(user_embeddings, item_embeddings)\n"
      ]
    },
    {
      "cell_type": "markdown",
      "metadata": {
        "id": "StsPcXpUO-Fw"
      },
      "source": [
        "##7. Recommendation Generation:\n",
        "Recommendations are generated for users 1 to 9 based on their historical interactions.\n",
        "For each user, the code identifies movies they have seen and generates predictions for movies they haven't seen.\n",
        "The top 5 recommendations with the highest predicted ratings are selected for each user."
      ]
    },
    {
      "cell_type": "code",
      "execution_count": 14,
      "metadata": {
        "colab": {
          "base_uri": "https://localhost:8080/"
        },
        "id": "L03HS6H3O96A",
        "outputId": "1c6ba242-da6e-4ed5-ffc1-357b4b836d4f"
      },
      "outputs": [
        {
          "name": "stdout",
          "output_type": "stream",
          "text": [
            "\n",
            "User 1 has seen 194 movies\n",
            "User 1 has 1450 predictions\n",
            "\n",
            "User 2 has seen 47 movies\n",
            "User 2 has 1597 predictions\n",
            "\n",
            "User 3 has seen 37 movies\n",
            "User 3 has 1607 predictions\n",
            "\n",
            "User 4 has seen 14 movies\n",
            "User 4 has 1630 predictions\n",
            "\n",
            "User 5 has seen 127 movies\n",
            "User 5 has 1517 predictions\n",
            "\n",
            "User 6 has seen 167 movies\n",
            "User 6 has 1477 predictions\n",
            "\n",
            "User 7 has seen 306 movies\n",
            "User 7 has 1338 predictions\n",
            "\n",
            "User 8 has seen 39 movies\n",
            "User 8 has 1605 predictions\n",
            "\n",
            "User 9 has seen 18 movies\n",
            "User 9 has 1626 predictions\n"
          ]
        }
      ],
      "source": [
        "# Recommendation generation\n",
        "recommendations = []\n",
        "for uid in range(1, 10):  # Generate recommendations for users 1 to 9\n",
        "    # Get the items that the user has already interacted with\n",
        "    seen_iids = [iid for iid, _ in trainset.ur[trainset.to_inner_uid(str(uid))]]\n",
        "    print(f\"\\nUser {uid} has seen {len(seen_iids)} movies\")\n",
        "\n",
        "    # Predict ratings for all items the user hasn't seen yet\n",
        "    user_predictions = [best_model.predict(str(uid), trainset.to_raw_iid(iid), verbose=False) for iid in trainset.all_items() if iid not in seen_iids]\n",
        "    print(f\"User {uid} has {len(user_predictions)} predictions\")\n",
        "\n",
        "    # Sort these predictions by estimated rating\n",
        "    user_predictions.sort(key=lambda x: x.est, reverse=True)\n",
        "\n",
        "    # Get top 5 recommendations for each user\n",
        "    top_n_recommendations = [prediction.iid for prediction in user_predictions[:5]]\n",
        "\n",
        "    recommendations.append(top_n_recommendations)"
      ]
    },
    {
      "cell_type": "markdown",
      "metadata": {
        "id": "L4bSN8FYPN3D"
      },
      "source": [
        "##8. Print Recommendations:\n",
        "Finally, the code prints the recommendations for each user along with movie details if available."
      ]
    },
    {
      "cell_type": "code",
      "execution_count": 15,
      "metadata": {
        "colab": {
          "base_uri": "https://localhost:8080/"
        },
        "id": "F3GqY12lqAzc",
        "outputId": "0b0ac040-07b7-4cc2-c46c-452da0259f49"
      },
      "outputs": [
        {
          "name": "stdout",
          "output_type": "stream",
          "text": [
            "\n",
            "Top Recommendations for User 1:\n",
            "Movie ID: 408, Title: Close Shave, A (1995)\n",
            "Movie ID: 1449, Title: Pather Panchali (1955)\n",
            "Movie ID: 318, Title: Schindler's List (1993)\n",
            "Movie ID: 483, Title: Casablanca (1942)\n",
            "Movie ID: 603, Title: Rear Window (1954)\n",
            "\n",
            "Top Recommendations for User 2:\n",
            "Movie ID: 408, Title: Close Shave, A (1995)\n",
            "Movie ID: 64, Title: Shawshank Redemption, The (1994)\n",
            "Movie ID: 1449, Title: Pather Panchali (1955)\n",
            "Movie ID: 169, Title: Wrong Trousers, The (1993)\n",
            "Movie ID: 318, Title: Schindler's List (1993)\n",
            "\n",
            "Top Recommendations for User 3:\n",
            "Movie ID: 169, Title: Wrong Trousers, The (1993)\n",
            "Movie ID: 320, Title: Paradise Lost: The Child Murders at Robin Hood Hills (1996)\n",
            "Movie ID: 408, Title: Close Shave, A (1995)\n",
            "Movie ID: 114, Title: Wallace & Gromit: The Best of Aardman Animation (1996)\n",
            "Movie ID: 12, Title: Usual Suspects, The (1995)\n",
            "\n",
            "Top Recommendations for User 4:\n",
            "Movie ID: 408, Title: Close Shave, A (1995)\n",
            "Movie ID: 483, Title: Casablanca (1942)\n",
            "Movie ID: 318, Title: Schindler's List (1993)\n",
            "Movie ID: 272, Title: Good Will Hunting (1997)\n",
            "Movie ID: 12, Title: Usual Suspects, The (1995)\n",
            "\n",
            "Top Recommendations for User 5:\n",
            "Movie ID: 408, Title: Close Shave, A (1995)\n",
            "Movie ID: 114, Title: Wallace & Gromit: The Best of Aardman Animation (1996)\n",
            "Movie ID: 127, Title: Godfather, The (1972)\n",
            "Movie ID: 483, Title: Casablanca (1942)\n",
            "Movie ID: 12, Title: Usual Suspects, The (1995)\n",
            "\n",
            "Top Recommendations for User 6:\n",
            "Movie ID: 1449, Title: Pather Panchali (1955)\n",
            "Movie ID: 603, Title: Rear Window (1954)\n",
            "Movie ID: 483, Title: Casablanca (1942)\n",
            "Movie ID: 318, Title: Schindler's List (1993)\n",
            "Movie ID: 178, Title: 12 Angry Men (1957)\n",
            "\n",
            "Top Recommendations for User 7:\n",
            "Movie ID: 408, Title: Close Shave, A (1995)\n",
            "Movie ID: 169, Title: Wrong Trousers, The (1993)\n",
            "Movie ID: 483, Title: Casablanca (1942)\n",
            "Movie ID: 114, Title: Wallace & Gromit: The Best of Aardman Animation (1996)\n",
            "Movie ID: 12, Title: Usual Suspects, The (1995)\n",
            "\n",
            "Top Recommendations for User 8:\n",
            "Movie ID: 408, Title: Close Shave, A (1995)\n",
            "Movie ID: 169, Title: Wrong Trousers, The (1993)\n",
            "Movie ID: 318, Title: Schindler's List (1993)\n",
            "Movie ID: 64, Title: Shawshank Redemption, The (1994)\n",
            "Movie ID: 114, Title: Wallace & Gromit: The Best of Aardman Animation (1996)\n",
            "\n",
            "Top Recommendations for User 9:\n",
            "Movie ID: 408, Title: Close Shave, A (1995)\n",
            "Movie ID: 1449, Title: Pather Panchali (1955)\n",
            "Movie ID: 169, Title: Wrong Trousers, The (1993)\n",
            "Movie ID: 64, Title: Shawshank Redemption, The (1994)\n",
            "Movie ID: 114, Title: Wallace & Gromit: The Best of Aardman Animation (1996)\n"
          ]
        }
      ],
      "source": [
        "# Load movie details from u.item\n",
        "movie_details = {}\n",
        "with open(os.path.join('ml-100k', 'u.item'), encoding='ISO-8859-1') as f:\n",
        "    for line in f:\n",
        "        parts = line.strip().split('|')\n",
        "        movie_id = int(parts[0])\n",
        "        movie_title = parts[1]\n",
        "        movie_details[movie_id] = {'title': movie_title}\n",
        "\n",
        "# Print movie details for the recommendations\n",
        "for i, user_rec in enumerate(recommendations, start=1):\n",
        "    print(f\"\\nTop Recommendations for User {i}:\")\n",
        "    if user_rec:  # Check if there are recommendations for the user\n",
        "        for item_id in user_rec:\n",
        "            movie_info = movie_details.get(int(item_id))\n",
        "            if movie_info:\n",
        "                print(f\"Movie ID: {item_id}, Title: {movie_info['title']}\")\n",
        "    else:\n",
        "        print(\"No recommendations available for this user\")"
      ]
    },
    {
      "cell_type": "markdown",
      "metadata": {
        "id": "d2F5EVWCP4xI"
      },
      "source": [
        "##9. Load Demographic Information:\n",
        "Demographic information about users is loaded from the 'u.user' file, including age, gender, occupation, and zip code.\n",
        "The age column is scaled using standard scaling."
      ]
    },
    {
      "cell_type": "code",
      "execution_count": 16,
      "metadata": {
        "id": "Jtu6uCGI8fLj"
      },
      "outputs": [],
      "source": [
        "# Load demographic information from u.user\n",
        "user_columns = ['user_id', 'age', 'gender', 'occupation', 'zip_code']\n",
        "users = pd.read_csv(os.path.join('/content', 'ml-100k', 'u.user'), sep='|', names=user_columns)\n",
        "users_cp = users.copy()\n",
        "# Drop non-numeric columns and scale numeric columns\n",
        "numeric_columns = ['age']\n",
        "scaler = StandardScaler()\n",
        "users[numeric_columns] = scaler.fit_transform(users[numeric_columns])"
      ]
    },
    {
      "cell_type": "markdown",
      "metadata": {
        "id": "SqAKSs6GQBtU"
      },
      "source": [
        "##10. Merge Demographic Information with User Embeddings:\n",
        "The user embeddings obtained from the collaborative filtering model are combined with the scaled demographic information.\n",
        "This creates a new set of features that includes both collaborative filtering embeddings and demographic information."
      ]
    },
    {
      "cell_type": "code",
      "execution_count": 17,
      "metadata": {
        "id": "Nc3BYTAeQBfL"
      },
      "outputs": [],
      "source": [
        "# Merge demographic information with user embeddings\n",
        "user_embeddings_df = pd.DataFrame(user_embeddings, columns=[f'feature_{i}' for i in range(user_embeddings.shape[1])])\n",
        "user_info_embeddings = pd.concat([users[['user_id']], user_embeddings_df], axis=1)\n"
      ]
    },
    {
      "cell_type": "markdown",
      "metadata": {
        "id": "tvwW94DqQBDJ"
      },
      "source": [
        "##11. Calculate User-Item Similarity:\n",
        "Cosine similarity is calculated between the combined user information embeddings and the item embeddings.\n",
        "This yields a similarity matrix indicating how similar each user is to each item based on both collaborative filtering and demographic features."
      ]
    },
    {
      "cell_type": "code",
      "execution_count": 18,
      "metadata": {
        "id": "l8EcxtwDQAtT"
      },
      "outputs": [],
      "source": [
        "# Calculate user-item similarity based on both collaborative filtering embeddings and demographic information\n",
        "user_item_similarity_combined = cosine_similarity(user_info_embeddings.iloc[:, 1:], item_embeddings)\n"
      ]
    },
    {
      "cell_type": "markdown",
      "metadata": {
        "id": "PuOMQWpNQAEx"
      },
      "source": [
        "##12. Recommendation Generation:\n",
        "For each user (from 1 to 9 in this case), the code sorts the combined user-item similarity scores and selects the top 5 items as recommendations then prints the demographic information for each user and the movie details for the recommended items\n"
      ]
    },
    {
      "cell_type": "code",
      "execution_count": 19,
      "metadata": {
        "colab": {
          "base_uri": "https://localhost:8080/"
        },
        "id": "kMp0evXWQCUD",
        "outputId": "d02358c2-7aa3-4e16-8d5a-f78749585d29"
      },
      "outputs": [
        {
          "name": "stdout",
          "output_type": "stream",
          "text": [
            "\n",
            "Recommendations for User 1:\n",
            "User Demographic: age                   24\n",
            "gender                 M\n",
            "occupation    technician\n",
            "zip_code           85711\n",
            "Name: 0, dtype: object\n",
            "Movie ID: 439, Title: Amityville: A New Generation (1993)\n",
            "Movie ID: 1089, Title: Speed 2: Cruise Control (1997)\n",
            "Movie ID: 38, Title: Net, The (1995)\n",
            "Movie ID: 835, Title: Gay Divorcee, The (1934)\n",
            "Movie ID: 553, Title: Walk in the Clouds, A (1995)\n",
            "\n",
            "Recommendations for User 2:\n",
            "User Demographic: age              53\n",
            "gender            F\n",
            "occupation    other\n",
            "zip_code      94043\n",
            "Name: 1, dtype: object\n",
            "Movie ID: 896, Title: Sweet Hereafter, The (1997)\n",
            "Movie ID: 52, Title: Madness of King George, The (1994)\n",
            "Movie ID: 477, Title: Matilda (1996)\n",
            "Movie ID: 310, Title: Rainmaker, The (1997)\n",
            "Movie ID: 141, Title: 20,000 Leagues Under the Sea (1954)\n",
            "\n",
            "Recommendations for User 3:\n",
            "User Demographic: age               23\n",
            "gender             M\n",
            "occupation    writer\n",
            "zip_code       32067\n",
            "Name: 2, dtype: object\n",
            "Movie ID: 48, Title: Hoop Dreams (1994)\n",
            "Movie ID: 708, Title: Sex, Lies, and Videotape (1989)\n",
            "Movie ID: 322, Title: Murder at 1600 (1997)\n",
            "Movie ID: 592, Title: True Crime (1995)\n",
            "Movie ID: 562, Title: Quick and the Dead, The (1995)\n",
            "\n",
            "Recommendations for User 4:\n",
            "User Demographic: age                   24\n",
            "gender                 M\n",
            "occupation    technician\n",
            "zip_code           43537\n",
            "Name: 3, dtype: object\n",
            "Movie ID: 497, Title: Bringing Up Baby (1938)\n",
            "Movie ID: 261, Title: Air Bud (1997)\n",
            "Movie ID: 285, Title: Secrets & Lies (1996)\n",
            "Movie ID: 735, Title: Philadelphia (1993)\n",
            "Movie ID: 433, Title: Heathers (1989)\n",
            "\n",
            "Recommendations for User 5:\n",
            "User Demographic: age              33\n",
            "gender            F\n",
            "occupation    other\n",
            "zip_code      15213\n",
            "Name: 4, dtype: object\n",
            "Movie ID: 145, Title: Lawnmower Man, The (1992)\n",
            "Movie ID: 275, Title: Sense and Sensibility (1995)\n",
            "Movie ID: 52, Title: Madness of King George, The (1994)\n",
            "Movie ID: 266, Title: Kull the Conqueror (1997)\n",
            "Movie ID: 986, Title: Turbulence (1997)\n",
            "\n",
            "Recommendations for User 6:\n",
            "User Demographic: age                  42\n",
            "gender                M\n",
            "occupation    executive\n",
            "zip_code          98101\n",
            "Name: 5, dtype: object\n",
            "Movie ID: 321, Title: Mother (1996)\n",
            "Movie ID: 245, Title: Devil's Own, The (1997)\n",
            "Movie ID: 367, Title: Clueless (1995)\n",
            "Movie ID: 58, Title: Quiz Show (1994)\n",
            "Movie ID: 27, Title: Bad Boys (1995)\n",
            "\n",
            "Recommendations for User 7:\n",
            "User Demographic: age                      57\n",
            "gender                    M\n",
            "occupation    administrator\n",
            "zip_code              91344\n",
            "Name: 6, dtype: object\n",
            "Movie ID: 402, Title: Ghost (1990)\n",
            "Movie ID: 433, Title: Heathers (1989)\n",
            "Movie ID: 39, Title: Strange Days (1995)\n",
            "Movie ID: 95, Title: Aladdin (1992)\n",
            "Movie ID: 356, Title: Client, The (1994)\n",
            "\n",
            "Recommendations for User 8:\n",
            "User Demographic: age                      36\n",
            "gender                    M\n",
            "occupation    administrator\n",
            "zip_code              05201\n",
            "Name: 7, dtype: object\n",
            "Movie ID: 100, Title: Fargo (1996)\n",
            "Movie ID: 201, Title: Evil Dead II (1987)\n",
            "Movie ID: 409, Title: Jack (1996)\n",
            "Movie ID: 425, Title: Bob Roberts (1992)\n",
            "Movie ID: 245, Title: Devil's Own, The (1997)\n",
            "\n",
            "Recommendations for User 9:\n",
            "User Demographic: age                29\n",
            "gender              M\n",
            "occupation    student\n",
            "zip_code        01002\n",
            "Name: 8, dtype: object\n",
            "Movie ID: 134, Title: Citizen Kane (1941)\n",
            "Movie ID: 768, Title: Casper (1995)\n",
            "Movie ID: 211, Title: M*A*S*H (1970)\n",
            "Movie ID: 200, Title: Shining, The (1980)\n",
            "Movie ID: 990, Title: Anna Karenina (1997)\n"
          ]
        }
      ],
      "source": [
        "# Recommendation generation\n",
        "recommendations = []\n",
        "for uid in range(1, 10):  # Generate recommendations for users 1 to 9\n",
        "    # Sort user-item similarity scores\n",
        "    combined_similarity = user_item_similarity_combined[uid - 1, :]\n",
        "    top_n_items = combined_similarity.argsort()[::-1][:5]\n",
        "\n",
        "    recommendations.append(top_n_items)\n",
        "# Load movie details from u.item\n",
        "movie_details = {}\n",
        "with open(os.path.join('/content', 'ml-100k', 'u.item'), encoding='ISO-8859-1') as f:\n",
        "    for line in f:\n",
        "        parts = line.strip().split('|')\n",
        "        movie_id = int(parts[0])\n",
        "        movie_title = parts[1]\n",
        "        movie_details[movie_id] = {'title': movie_title}\n",
        "\n",
        "# Print movie details and user demographic for the recommendations\n",
        "for i, user_rec in enumerate(recommendations, start=1):\n",
        "    print(f\"\\nRecommendations for User {i}:\")\n",
        "    print(f\"User Demographic: {users_cp.loc[i-1, ['age', 'gender', 'occupation', 'zip_code']]}\")\n",
        "    for item_id in user_rec:\n",
        "        movie_info = movie_details.get(item_id + 1)  # item_id in Surprise is 1-indexed\n",
        "        if movie_info:\n",
        "            print(f\"Movie ID: {item_id + 1}, Title: {movie_info['title']}\")\n"
      ]
    },
    {
      "cell_type": "markdown",
      "metadata": {
        "id": "zQf6tCMGX_WV"
      },
      "source": [
        "##Save the model"
      ]
    },
    {
      "cell_type": "code",
      "execution_count": 20,
      "metadata": {
        "id": "80C04qPtWX0H"
      },
      "outputs": [],
      "source": [
        "import pickle\n",
        "\n",
        "# Save the collaborative filtering model and demographic information\n",
        "model_with_demographics = {\n",
        "    'model': best_model,\n",
        "    'user_embeddings': user_embeddings,\n",
        "    'item_embeddings': item_embeddings,\n",
        "    'user_info_embeddings': user_info_embeddings,\n",
        "}\n",
        "\n",
        "# Define the folder path\n",
        "folder_path = 'model'\n",
        "\n",
        "# Check if the folder exists\n",
        "if not os.path.exists(folder_path):\n",
        "    # Create the folder if it doesn't exist\n",
        "    os.makedirs(folder_path)\n",
        "\n",
        "model_filename = 'model/best_model_with_demographics.pkl'\n",
        "with open(model_filename, 'wb') as file:\n",
        "    pickle.dump(model_with_demographics, file)\n"
      ]
    }
  ],
  "metadata": {
    "colab": {
      "provenance": []
    },
    "kernelspec": {
      "display_name": "Python 3",
      "name": "python3"
    },
    "language_info": {
      "name": "python"
    }
  },
  "nbformat": 4,
  "nbformat_minor": 0
}
